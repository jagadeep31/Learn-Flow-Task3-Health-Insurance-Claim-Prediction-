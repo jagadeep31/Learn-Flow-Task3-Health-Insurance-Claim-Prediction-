{
  "nbformat": 4,
  "nbformat_minor": 0,
  "metadata": {
    "colab": {
      "provenance": [],
      "authorship_tag": "ABX9TyPq2g2ZFuQXqZgxgkV7CLit",
      "include_colab_link": true
    },
    "kernelspec": {
      "name": "python3",
      "display_name": "Python 3"
    },
    "language_info": {
      "name": "python"
    }
  },
  "cells": [
    {
      "cell_type": "markdown",
      "metadata": {
        "id": "view-in-github",
        "colab_type": "text"
      },
      "source": [
        "<a href=\"https://colab.research.google.com/github/jagadeep31/Learn-Flow-Task3-Health-Insurance-Claim-Prediction-/blob/main/Health_Insurance_Claim_Prediction.ipynb\" target=\"_parent\"><img src=\"https://colab.research.google.com/assets/colab-badge.svg\" alt=\"Open In Colab\"/></a>"
      ]
    },
    {
      "cell_type": "code",
      "source": [
        "import numpy as np\n",
        "import pandas as pd\n",
        "import matplotlib.pyplot as plt\n",
        "import seaborn as sns\n",
        "from google.colab import drive\n",
        "from sklearn.model_selection import train_test_split\n",
        "from sklearn.preprocessing import StandardScaler, LabelEncoder\n",
        "from sklearn.linear_model import LinearRegression\n",
        "from sklearn.metrics import mean_squared_error, r2_score\n",
        "# Load the data\n",
        "from google.colab import drive\n",
        "drive.mount('/content/drive')\n",
        "data = pd.read_csv('insurance.csv')"
      ],
      "metadata": {
        "colab": {
          "base_uri": "https://localhost:8080/"
        },
        "id": "jIswTGFQ4DtM",
        "outputId": "e5e01be1-de09-4a5d-c040-346460957aea"
      },
      "execution_count": null,
      "outputs": [
        {
          "output_type": "stream",
          "name": "stdout",
          "text": [
            "Mounted at /content/drive\n"
          ]
        }
      ]
    },
    {
      "cell_type": "code",
      "source": [
        "# Display basic information about the dataset\n",
        "print(data.shape)\n",
        "data.head()\n",
        "data.describe()\n",
        "data.isnull().sum()"
      ],
      "metadata": {
        "colab": {
          "base_uri": "https://localhost:8080/"
        },
        "id": "VVyGCOxL4XHw",
        "outputId": "84a0c76e-6f1e-4dca-cda7-87cb75bc851b"
      },
      "execution_count": null,
      "outputs": [
        {
          "output_type": "stream",
          "name": "stdout",
          "text": [
            "(1338, 7)\n"
          ]
        },
        {
          "output_type": "execute_result",
          "data": {
            "text/plain": [
              "age         0\n",
              "sex         0\n",
              "bmi         0\n",
              "children    0\n",
              "smoker      0\n",
              "region      0\n",
              "charges     0\n",
              "dtype: int64"
            ]
          },
          "metadata": {},
          "execution_count": 9
        }
      ]
    },
    {
      "cell_type": "code",
      "source": [
        "# Plotting the correlation matrix\n",
        "f, ax = plt.subplots(figsize=(6,6))\n",
        "corr = data.corr()\n",
        "sns.heatmap(corr, cmap=sns.diverging_palette(50, 10, as_cmap=True), square=True, annot=True, fmt=\".2f\", annot_kws={'size': 10})\n",
        "plt.title('Correlation Matrix')\n",
        "plt.show()"
      ],
      "metadata": {
        "colab": {
          "base_uri": "https://localhost:8080/",
          "height": 559
        },
        "id": "94cwhl1T4Y6u",
        "outputId": "d55ccebe-d9a0-4b90-9639-4b5950726af1"
      },
      "execution_count": null,
      "outputs": [
        {
          "output_type": "stream",
          "name": "stderr",
          "text": [
            "<ipython-input-10-5a32aa823012>:3: FutureWarning: The default value of numeric_only in DataFrame.corr is deprecated. In a future version, it will default to False. Select only valid columns or specify the value of numeric_only to silence this warning.\n",
            "  corr = data.corr()\n"
          ]
        },
        {
          "output_type": "display_data",
          "data": {
            "text/plain": [
              "<Figure size 600x600 with 2 Axes>"
            ],
            "image/png": "[encoded data removed]"
          },
          "metadata": {}
        }
      ]
    },
    {
      "cell_type": "code",
      "source": [
        "# Check if 'region' column exists before attempting to drop it\n",
        "if 'region' in data.columns:\n",
        "    # Removing unnecessary columns from the dataset\n",
        "    data = data.drop('region', axis=1)\n",
        "else:\n",
        "    print(\"'region' column not found in the dataset.\")"
      ],
      "metadata": {
        "id": "gYHxPZ294ik8"
      },
      "execution_count": null,
      "outputs": []
    },
    {
      "cell_type": "code",
      "source": [
        "# Display updated information about the dataset\n",
        "print(data.shape)\n",
        "print(data.columns)"
      ],
      "metadata": {
        "colab": {
          "base_uri": "https://localhost:8080/"
        },
        "id": "J_zi223w4mQ4",
        "outputId": "3eb13d44-1129-4924-ad33-3ceccf582d82"
      },
      "execution_count": null,
      "outputs": [
        {
          "output_type": "stream",
          "name": "stdout",
          "text": [
            "(1338, 6)\n",
            "Index(['age', 'sex', 'bmi', 'children', 'smoker', 'charges'], dtype='object')\n"
          ]
        }
      ]
    },
    {
      "cell_type": "code",
      "source": [
        "# Label encoding for 'sex' and 'smoker'\n",
        "le = LabelEncoder()\n",
        "data['sex'] = le.fit_transform(data['sex'])\n",
        "data['smoker'] = le.fit_transform(data['smoker'])"
      ],
      "metadata": {
        "id": "ZGqcR1or4oU2"
      },
      "execution_count": null,
      "outputs": []
    },
    {
      "cell_type": "code",
      "source": [
        "# Splitting the dataset into independent (x) and dependent (y) variables\n",
        "x = data.iloc[:, :5]\n",
        "y = data.iloc[:, 5]\n",
        "\n",
        "# Splitting the dataset into training and testing sets\n",
        "x_train, x_test, y_train, y_test = train_test_split(x, y, test_size=0.2, random_state=30)"
      ],
      "metadata": {
        "id": "mZMlgsea4sVw"
      },
      "execution_count": null,
      "outputs": []
    },
    {
      "cell_type": "code",
      "source": [
        "# Standard scaling\n",
        "sc = StandardScaler()\n",
        "x_train = sc.fit_transform(x_train)\n",
        "x_test = sc.transform(x_test)"
      ],
      "metadata": {
        "id": "RURBBkID41Xz"
      },
      "execution_count": null,
      "outputs": []
    },
    {
      "cell_type": "code",
      "source": [
        "# Creating the linear regression model\n",
        "model = LinearRegression()\n",
        "# Training the model\n",
        "model.fit(x_train, y_train)\n",
        "\n",
        "# Predicting the test set results\n",
        "y_pred = model.predict(x_test)\n",
        "\n",
        "# Calculating and displaying performance metrics\n",
        "mse = mean_squared_error(y_test, y_pred)\n",
        "rmse = np.sqrt(mse)\n",
        "r2 = r2_score(y_test, y_pred)\n",
        "print(\"Mean Squared Error (MSE):\", mse)\n",
        "print(\"Root Mean Squared Error (RMSE):\", rmse)\n",
        "print(\"R2 Score:\", r2)"
      ],
      "metadata": {
        "colab": {
          "base_uri": "https://localhost:8080/"
        },
        "id": "6IMm1ztp452d",
        "outputId": "1a0c6d7f-1aa0-4369-a3be-4e701975e428"
      },
      "execution_count": null,
      "outputs": [
        {
          "output_type": "stream",
          "name": "stdout",
          "text": [
            "Mean Squared Error (MSE): 37057975.78335928\n",
            "Root Mean Squared Error (RMSE): 6087.526244983202\n",
            "R2 Score: 0.759758528014896\n"
          ]
        }
      ]
    },
    {
      "cell_type": "code",
      "source": [
        "from sklearn.tree import DecisionTreeRegressor\n",
        "\n",
        "# creating the model\n",
        "model = DecisionTreeRegressor()\n",
        "\n",
        "# feeding the training data to the model\n",
        "model.fit(x_train, y_train)\n",
        "\n",
        "# predicting the test set results\n",
        "y_pred = model.predict(x_test)\n",
        "\n",
        "# calculating the mean squared error\n",
        "mse = np.mean((y_test - y_pred)**2, axis = None)\n",
        "print(\"MSE :\", mse)\n",
        "\n",
        "# Calculating the root mean squared error\n",
        "rmse = np.sqrt(mse)\n",
        "print(\"RMSE :\", rmse)\n",
        "\n",
        "# Calculating the r2 score\n",
        "r2 = r2_score(y_test, y_pred)\n",
        "print(\"r2 score :\", r2)"
      ],
      "metadata": {
        "colab": {
          "base_uri": "https://localhost:8080/"
        },
        "id": "vqqG2ukk49U1",
        "outputId": "06238e67-9926-4558-8e13-1315bc88c1c4"
      },
      "execution_count": null,
      "outputs": [
        {
          "output_type": "stream",
          "name": "stdout",
          "text": [
            "MSE : 45592342.88177423\n",
            "RMSE : 6752.210221977262\n",
            "r2 score : 0.7044314662733009\n"
          ]
        }
      ]
    },
    {
      "cell_type": "code",
      "source": [
        "from sklearn.svm import SVR\n",
        "\n",
        "# creating the model\n",
        "model = SVR()\n",
        "\n",
        "# feeding the training data to the model\n",
        "model.fit(x_train, y_train)\n",
        "\n",
        "# predicting the test set results\n",
        "y_pred = model.predict(x_test)\n",
        "\n",
        "# calculating the mean squared error\n",
        "mse = np.mean((y_test - y_pred)**2, axis = None)\n",
        "print(\"MSE :\", mse)\n",
        "\n",
        "# Calculating the root mean squared error\n",
        "rmse = np.sqrt(mse)\n",
        "print(\"RMSE :\", rmse)\n",
        "\n",
        "# Calculating the r2 score\n",
        "r2 = r2_score(y_test, y_pred)\n",
        "print(\"r2 score :\", r2)"
      ],
      "metadata": {
        "colab": {
          "base_uri": "https://localhost:8080/"
        },
        "id": "XYI5rJPa5CX9",
        "outputId": "b4c65e70-a809-40aa-bdd4-c694279bbeb6"
      },
      "execution_count": null,
      "outputs": [
        {
          "output_type": "stream",
          "name": "stdout",
          "text": [
            "MSE : 174579621.41531378\n",
            "RMSE : 13212.858184939161\n",
            "r2 score : -0.13177431688675045\n"
          ]
        }
      ]
    }
  ]
}